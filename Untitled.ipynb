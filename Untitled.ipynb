{
 "cells": [
  {
   "cell_type": "markdown",
   "id": "d57ddb76",
   "metadata": {},
   "source": [
    "# Milestone 2"
   ]
  },
  {
   "cell_type": "markdown",
   "id": "723c968c",
   "metadata": {},
   "source": [
    "This notebook is designed to explore and clarify key aspects of our dataset, including both preprocessing and preliminary analysis. We begin by loading the data and implementing general preprocessing steps that will be uniform throughout the notebook. The subsequent sections are organized according to the X research questions highlighted in the project's README. Each section includes specialized data preparation steps, along with vital statistics and visual representations. Our initial exploratory work is intended to offer insights and confirm the suitability of the methodologies we have selected."
   ]
  },
  {
   "cell_type": "markdown",
   "id": "557560b9",
   "metadata": {},
   "source": [
    "---"
   ]
  },
  {
   "cell_type": "markdown",
   "id": "f7fc67de",
   "metadata": {},
   "source": [
    "**Contents of notebook**:\n",
    "1. [Section 1](#section1)\n",
    "2. [Section 2](#section2)\n",
    "    1. [Subsection 2.1](#section2_1)\n",
    "    2. [Subsection 2.2](#section2_2)\n",
    "3. [Section 3](#section3)"
   ]
  },
  {
   "cell_type": "markdown",
   "id": "a1256c3e",
   "metadata": {},
   "source": [
    "---"
   ]
  },
  {
   "cell_type": "markdown",
   "id": "e171d8df",
   "metadata": {},
   "source": [
    "## Data Processing"
   ]
  },
  {
   "cell_type": "markdown",
   "id": "97ddc7d3",
   "metadata": {},
   "source": [
    "### Loading data"
   ]
  },
  {
   "cell_type": "code",
   "execution_count": null,
   "id": "f755f2d0",
   "metadata": {},
   "outputs": [],
   "source": [
    "#imports\n",
    "import pandas as pd\n",
    "import matplotlib.pyplot as plt\n",
    "import numpy as np\n",
    "from helpers import * #DEFINE HELPERS\n",
    "from datetime import datetime as dt"
   ]
  },
  {
   "cell_type": "code",
   "execution_count": null,
   "id": "de2d0c10",
   "metadata": {},
   "outputs": [],
   "source": [
    "DATA_FOLDER = './data/'\n",
    "MOVIES_METADATA_PATH = DATA_FOLDER + 'movie.metadata.tsv'\n",
    "PLOT_SUMMARIES_PATH = DATA_FOLDER + 'plot_summaries.txt'\n",
    "TITLE_RATINGS_PATH = DATA_FOLDER + 'title.ratings.tsv'\n",
    "TITLE_BASICS_PATH = DATA_FOLDER + 'title.basics.tsv'"
   ]
  },
  {
   "cell_type": "code",
   "execution_count": null,
   "id": "7b674047",
   "metadata": {},
   "outputs": [],
   "source": [
    "# Read the Movie Summary Dataset\n",
    "df_plots = pd.read_csv(PLOT_SUMMARIES_PATH, sep='\\t', header=None, names=['id', 'plot'])\n",
    "\n",
    "# Display the first 5 elements of the dataframe\n",
    "df_plots.head(5)"
   ]
  },
  {
   "cell_type": "code",
   "execution_count": null,
   "id": "44e80200",
   "metadata": {},
   "outputs": [],
   "source": [
    "# Read the movie meta-data dataset\n",
    "metadata_df = pd.read_csv(MOVIES_METADATA_PATH, sep='\\t',header=None, names=['id', 'freebase_id', 'title', 'release_date', 'boxOffice_revenue', 'runtime', 'language', 'country', 'genres'])\n",
    "metadata_df.head(5)"
   ]
  },
  {
   "cell_type": "code",
   "execution_count": null,
   "id": "fe578c83",
   "metadata": {},
   "outputs": [],
   "source": [
    "# Get some insights\n",
    "metadata_df.info()"
   ]
  },
  {
   "cell_type": "code",
   "execution_count": null,
   "id": "3de06189",
   "metadata": {},
   "outputs": [],
   "source": [
    "nan_percentage = metadata_df['boxOffice_revenue'].isna().mean() * 100\n",
    "nan_percentage"
   ]
  },
  {
   "cell_type": "code",
   "execution_count": null,
   "id": "1b1e2eae",
   "metadata": {},
   "outputs": [],
   "source": [
    "metadata_df['release_date']"
   ]
  },
  {
   "cell_type": "code",
   "execution_count": null,
   "id": "4b8a2172",
   "metadata": {},
   "outputs": [],
   "source": [
    "# Function to convert release date to datetime and handle different formats\n",
    "def convert_release_date(date_str):\n",
    "    try:\n",
    "        # Try converting with full date format\n",
    "        return pd.to_datetime(date_str, format='%Y-%m-%d', errors='coerce')\n",
    "    except ValueError:\n",
    "        try:\n",
    "            # Try converting with year-month format\n",
    "            return pd.to_datetime(date_str, format='%Y-%m', errors='coerce')\n",
    "        except ValueError:\n",
    "            # Fallback to year-only format\n",
    "            return pd.to_datetime(date_str, format='%Y', errors='coerce')\n",
    "\n",
    "# Apply the conversion function\n",
    "metadata_df['release_date'] = metadata_df['release_date'].apply(convert_release_date)\n",
    "\n",
    "# Extract year, month, and day\n",
    "metadata_df['year'] = metadata_df['release_date'].dt.year\n",
    "metadata_df['month'] = metadata_df['release_date'].dt.month\n",
    "metadata_df['day'] = metadata_df['release_date'].dt.day\n",
    "\n",
    "# Create flags for month and day\n",
    "metadata_df['release_month_given'] = metadata_df['release_date'].dt.strftime('%Y-%m') !=metadata_df['release_date'].dt.strftime('%Y-01')\n",
    "metadata_df['release_month_day_given'] = metadata_df['release_date'].dt.strftime('%Y-%m-%d') != metadata_df['release_date'].dt.strftime('%Y-01-01')\n",
    "\n",
    "# Convert the release date to ordinal format\n",
    "metadata_df['release_date_ord'] = metadata_df['release_date'].apply(lambda x: x.toordinal() if pd.notnull(x) else None)\n",
    "\n",
    "metadata_df.head()"
   ]
  },
  {
   "cell_type": "code",
   "execution_count": null,
   "id": "3a9df8fc",
   "metadata": {},
   "outputs": [],
   "source": [
    "# IMDb ratings dataset\n",
    "imdb_ratings_df = pd.read_csv(TITLE_RATINGS_PATH, sep='\t')\n",
    "imdb_ratings_df.head()"
   ]
  },
  {
   "cell_type": "code",
   "execution_count": null,
   "id": "146ff357",
   "metadata": {},
   "outputs": [],
   "source": [
    "# IMDb videos' metadata dataset\n",
    "imdb_basics_df = pd.read_csv(TITLE_BASICS_PATH, sep='\t', low_memory=False)\n",
    "imdb_basics_df.head()"
   ]
  },
  {
   "cell_type": "code",
   "execution_count": null,
   "id": "f29a3501",
   "metadata": {},
   "outputs": [],
   "source": [
    "imdb_basics_df['titleType'].unique()"
   ]
  },
  {
   "cell_type": "code",
   "execution_count": null,
   "id": "4bf45203",
   "metadata": {},
   "outputs": [],
   "source": [
    "# Only keep movies\n",
    "imdb_basics_df = imdb_basics_df[imdb_basics_df['titleType'] == 'movie']"
   ]
  },
  {
   "cell_type": "code",
   "execution_count": null,
   "id": "436930c0",
   "metadata": {},
   "outputs": [],
   "source": [
    "# Merge IMDb movies' rating and metadata\n",
    "imdb_df = imdb_ratings_df.merge(imdb_basics_df, on='tconst', how='inner')\n",
    "imdb_df.head()"
   ]
  },
  {
   "cell_type": "code",
   "execution_count": null,
   "id": "521e43e8",
   "metadata": {},
   "outputs": [],
   "source": [
    "imdb_df.loc[imdb_df['startYear']=='\\\\N', 'startYear'] = np.nan\n",
    "imdb_df.loc[imdb_df['runtimeMinutes']=='\\\\N', 'runtimeMinutes'] = np.nan\n",
    "imdb_df.info()"
   ]
  },
  {
   "cell_type": "code",
   "execution_count": null,
   "id": "e8f0841f",
   "metadata": {},
   "outputs": [],
   "source": [
    "imdb_df['startYear'] = pd.to_numeric(imdb_df['startYear'], errors='coerce')\n",
    "imdb_df['runtimeMinutes'] = pd.to_numeric(imdb_df['runtimeMinutes'], errors='coerce')\n",
    "# Merge CMU and IMDb datasets\n",
    "ratings_df = metadata_df.merge(\n",
    "    imdb_df,\n",
    "    left_on=['title'],\n",
    "    right_on=['primaryTitle'],\n",
    "    how='inner'\n",
    ")\n",
    "ratings_df['startYear'].fillna(-1, inplace=True)\n",
    "ratings_df['releaseDiff'] = (ratings_df['year'] - ratings_df['startYear']).abs()\n",
    "ratings_df = ratings_df[ratings_df['releaseDiff'] <= 1]\n",
    "ratings_df"
   ]
  },
  {
   "cell_type": "code",
   "execution_count": null,
   "id": "bf875748",
   "metadata": {},
   "outputs": [],
   "source": [
    "!pip install kaggle\n"
   ]
  },
  {
   "cell_type": "code",
   "execution_count": null,
   "id": "b49a968f",
   "metadata": {},
   "outputs": [],
   "source": [
    "!kaggle datasets download -d akshaypawar7/millions-of-movies -p data/zip_files"
   ]
  },
  {
   "cell_type": "code",
   "execution_count": null,
   "id": "332de9cb",
   "metadata": {},
   "outputs": [],
   "source": [
    "import zipfile\n",
    "import os\n",
    "\n",
    "# Path to the downloaded zip file\n",
    "zip_file_path = 'data/zip_files/millions-of-movies.zip'\n",
    "\n",
    "# Path where you want to extract the files\n",
    "extract_path = 'data/'\n",
    "\n",
    "# Create the directory if it doesn't exist\n",
    "if not os.path.exists(extract_path):\n",
    "    os.makedirs(extract_path)\n",
    "\n",
    "# Extract the zip file\n",
    "with zipfile.ZipFile(zip_file_path, 'r') as zip_ref:\n",
    "    zip_ref.extractall(extract_path)\n",
    "\n",
    "print(\"Extraction completed!\")"
   ]
  },
  {
   "cell_type": "code",
   "execution_count": null,
   "id": "877c6f7b",
   "metadata": {},
   "outputs": [],
   "source": [
    "dataframe = pd.read_csv('data/movies.csv')\n",
    "\n",
    "# Now you can work with the dataframe\n",
    "dataframe.head()"
   ]
  },
  {
   "cell_type": "code",
   "execution_count": null,
   "id": "69a2e206",
   "metadata": {},
   "outputs": [],
   "source": [
    "dataframe['release_date'] = dataframe['release_date'].apply(convert_release_date)"
   ]
  },
  {
   "cell_type": "code",
   "execution_count": null,
   "id": "8ea6f991",
   "metadata": {},
   "outputs": [],
   "source": [
    "# Extract year, month, and day\n",
    "dataframe['year'] = dataframe['release_date'].dt.year\n",
    "dataframe['month'] = dataframe['release_date'].dt.month\n",
    "dataframe['day'] = dataframe['release_date'].dt.day"
   ]
  },
  {
   "cell_type": "code",
   "execution_count": null,
   "id": "797f2125",
   "metadata": {},
   "outputs": [],
   "source": [
    "# Merge CMU and IMDb datasets with NEW KAGGLE\n",
    "revenues_ratings_df = ratings_df.merge(\n",
    "    dataframe,\n",
    "    on='title',\n",
    "    how='inner'\n",
    ")\n",
    "\n",
    "revenues_ratings_df['releaseDiff2'] = (revenues_ratings_df['year_x'] - revenues_ratings_df['year_y']).abs()\n",
    "revenues_ratings_df = revenues_ratings_df[revenues_ratings_df['releaseDiff2'] <= 1]"
   ]
  },
  {
   "cell_type": "code",
   "execution_count": null,
   "id": "91086d78",
   "metadata": {},
   "outputs": [],
   "source": [
    "nan_percentage = (revenues_ratings_df['revenue'] == 0).mean() * 100\n",
    "nan_percentage"
   ]
  },
  {
   "cell_type": "code",
   "execution_count": null,
   "id": "103f0975",
   "metadata": {},
   "outputs": [],
   "source": [
    "revenues_ratings_df.loc[revenues_ratings_df['revenue'] == 0, 'revenue'] = revenues_ratings_df['boxOffice_revenue']"
   ]
  },
  {
   "cell_type": "code",
   "execution_count": null,
   "id": "01cb6824",
   "metadata": {},
   "outputs": [],
   "source": [
    "nan_percentage = (revenues_ratings_df['revenue'].isna()).mean() * 100\n",
    "nan_percentage"
   ]
  },
  {
   "cell_type": "code",
   "execution_count": null,
   "id": "c6cc0a07",
   "metadata": {},
   "outputs": [],
   "source": [
    "# Calculate the absolute difference\n",
    "revenues_ratings_df['revenue_diff'] = (revenues_ratings_df['revenue'] - revenues_ratings_df['boxOffice_revenue']).abs()\n",
    "\n",
    "# Descriptive statistics of the differences\n",
    "difference_stats = revenues_ratings_df['revenue_diff'].describe()\n",
    "print(difference_stats)\n",
    "\n",
    "# Define a threshold for \"too much difference\"\n",
    "# For example, consider differences greater than $1 million as significant\n",
    "threshold = 1_000_000\n",
    "\n",
    "# Count the number of cases where the difference exceeds the threshold\n",
    "significant_diff_count = (revenues_ratings_df['revenue_diff'] > threshold).sum()\n",
    "print(f\"Number of cases with significant difference: {significant_diff_count}\")\n"
   ]
  },
  {
   "cell_type": "code",
   "execution_count": null,
   "id": "c0678532",
   "metadata": {},
   "outputs": [],
   "source": [
    "revenues_ratings_df['revenue'].mean()"
   ]
  }
 ],
 "metadata": {
  "kernelspec": {
   "display_name": "Python 3 (ipykernel)",
   "language": "python",
   "name": "python3"
  },
  "language_info": {
   "codemirror_mode": {
    "name": "ipython",
    "version": 3
   },
   "file_extension": ".py",
   "mimetype": "text/x-python",
   "name": "python",
   "nbconvert_exporter": "python",
   "pygments_lexer": "ipython3",
   "version": "3.10.13"
  }
 },
 "nbformat": 4,
 "nbformat_minor": 5
}
